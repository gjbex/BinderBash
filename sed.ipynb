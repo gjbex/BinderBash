{
 "cells": [
  {
   "cell_type": "markdown",
   "metadata": {},
   "source": [
    "# The sed streaming editor"
   ]
  },
  {
   "cell_type": "markdown",
   "metadata": {},
   "source": [
    "`sed` is a streaming editor that can be used to\n",
    "  * edits in large files,\n",
    "  * process data in a pipe."
   ]
  },
  {
   "cell_type": "markdown",
   "metadata": {},
   "source": [
    "To illustrate this, we go to the `data` directory."
   ]
  },
  {
   "cell_type": "code",
   "execution_count": 1,
   "metadata": {
    "ExecuteTime": {
     "end_time": "2018-03-08T05:57:22.064284Z",
     "start_time": "2018-03-08T05:57:21.927635Z"
    },
    "collapsed": true
   },
   "outputs": [],
   "source": [
    "cd data"
   ]
  },
  {
   "cell_type": "code",
   "execution_count": 2,
   "metadata": {
    "ExecuteTime": {
     "end_time": "2018-03-08T05:57:31.690455Z",
     "start_time": "2018-03-08T05:57:31.569527Z"
    }
   },
   "outputs": [
    {
     "name": "stdout",
     "output_type": "stream",
     "text": [
      "quadratic.txt\n"
     ]
    }
   ],
   "source": [
    "ls"
   ]
  },
  {
   "cell_type": "markdown",
   "metadata": {},
   "source": [
    "This file contains two columns, separated by `,`."
   ]
  },
  {
   "cell_type": "code",
   "execution_count": 5,
   "metadata": {
    "ExecuteTime": {
     "end_time": "2018-03-08T05:59:28.161382Z",
     "start_time": "2018-03-08T05:59:28.007142Z"
    }
   },
   "outputs": [
    {
     "name": "stdout",
     "output_type": "stream",
     "text": [
      "0.0,1.0\n",
      "1.0,2.0\n",
      "2.0,5.0\n",
      "3.0,10.0\n",
      "4.0,17.0\n",
      "5.0,26.0\n",
      "6.0,37.0\n",
      "7.0,50.0"
     ]
    }
   ],
   "source": [
    "cat quadratic.txt"
   ]
  },
  {
   "cell_type": "markdown",
   "metadata": {},
   "source": [
    "We can use `sed` to change the commas into spaces."
   ]
  },
  {
   "cell_type": "code",
   "execution_count": 4,
   "metadata": {
    "ExecuteTime": {
     "end_time": "2018-03-08T05:58:21.152175Z",
     "start_time": "2018-03-08T05:58:21.032941Z"
    }
   },
   "outputs": [
    {
     "name": "stdout",
     "output_type": "stream",
     "text": [
      "0.0 1.0\n",
      "1.0 2.0\n",
      "2.0 5.0\n",
      "3.0 10.0\n",
      "4.0 17.0\n",
      "5.0 26.0\n",
      "6.0 37.0\n",
      "7.0 50.0"
     ]
    }
   ],
   "source": [
    "sed 's/,/ /' < quadratic.txt"
   ]
  },
  {
   "cell_type": "markdown",
   "metadata": {},
   "source": [
    "The files `hello.py` and `bye.py` are very simple Python scripts that write \"Hello world!\" and \"Bye world!\" to standard output, respectively, e.g.,"
   ]
  },
  {
   "cell_type": "code",
   "execution_count": 6,
   "metadata": {
    "ExecuteTime": {
     "end_time": "2018-03-08T06:02:57.011757Z",
     "start_time": "2018-03-08T06:02:56.774578Z"
    }
   },
   "outputs": [
    {
     "name": "stdout",
     "output_type": "stream",
     "text": [
      "Hello world!\n"
     ]
    }
   ],
   "source": [
    "python hello.py"
   ]
  },
  {
   "cell_type": "markdown",
   "metadata": {},
   "source": [
    "Since we're quite proud of them, we would like to add a copyright below the shebang."
   ]
  },
  {
   "cell_type": "code",
   "execution_count": 7,
   "metadata": {
    "ExecuteTime": {
     "end_time": "2018-03-08T06:08:24.017224Z",
     "start_time": "2018-03-08T06:08:23.880717Z"
    }
   },
   "outputs": [
    {
     "name": "stdout",
     "output_type": "stream",
     "text": [
      "#!/usr/bin/env pytnon\n",
      "###########################################\n",
      "# copyright geertjan.bex@uhasselt.be (2018)\n",
      "###########################################\n",
      "\n",
      "print(\"Hello world!\")"
     ]
    }
   ],
   "source": [
    "sed '1r copyright.txt' < hello.py"
   ]
  },
  {
   "cell_type": "markdown",
   "metadata": {},
   "source": [
    "We can do this for all Python scripts in the directory."
   ]
  },
  {
   "cell_type": "code",
   "execution_count": 12,
   "metadata": {
    "ExecuteTime": {
     "end_time": "2018-03-08T06:14:30.665977Z",
     "start_time": "2018-03-08T06:14:30.530364Z"
    }
   },
   "outputs": [
    {
     "name": "stdout",
     "output_type": "stream",
     "text": [
      "bye.py  bye.py~  copyright.txt  hello.py  quadratic.txt\n"
     ]
    }
   ],
   "source": [
    "ls"
   ]
  },
  {
   "cell_type": "code",
   "execution_count": 16,
   "metadata": {
    "ExecuteTime": {
     "end_time": "2018-03-08T06:19:32.626527Z",
     "start_time": "2018-03-08T06:19:32.492763Z"
    }
   },
   "outputs": [],
   "source": [
    "for file in *.py; do sed '1w copyright.txt' < $file > \"${file%.py}_mod.py\"; done"
   ]
  },
  {
   "cell_type": "code",
   "execution_count": 17,
   "metadata": {
    "ExecuteTime": {
     "end_time": "2018-03-08T06:19:34.176612Z",
     "start_time": "2018-03-08T06:19:34.038679Z"
    }
   },
   "outputs": [
    {
     "name": "stdout",
     "output_type": "stream",
     "text": [
      "bye_mod.py  bye.py~     copyright.txt  hello.py      quadratic.txt\n",
      "bye.py      bye.py.mod  hello_mod.py   hello.py.mod\n"
     ]
    }
   ],
   "source": [
    "ls"
   ]
  },
  {
   "cell_type": "code",
   "execution_count": null,
   "metadata": {
    "collapsed": true
   },
   "outputs": [],
   "source": []
  }
 ],
 "metadata": {
  "kernelspec": {
   "display_name": "Bash",
   "language": "bash",
   "name": "bash"
  },
  "language_info": {
   "codemirror_mode": "shell",
   "file_extension": ".sh",
   "mimetype": "text/x-sh",
   "name": "bash"
  }
 },
 "nbformat": 4,
 "nbformat_minor": 2
}
